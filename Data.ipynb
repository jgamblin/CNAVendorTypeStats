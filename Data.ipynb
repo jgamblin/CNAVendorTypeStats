{
 "cells": [
  {
   "cell_type": "markdown",
   "metadata": {},
   "source": [
    "# Import Libraries"
   ]
  },
  {
   "cell_type": "code",
   "execution_count": 6,
   "id": "import-statements",
   "metadata": {},
   "outputs": [],
   "source": [
    "import os\n",
    "import subprocess\n",
    "from datetime import datetime, timedelta\n",
    "import requests\n",
    "from tqdm import tqdm"
   ]
  },
  {
   "cell_type": "markdown",
   "metadata": {},
   "source": [
    "# Download CVE Files from GitHub Repository"
   ]
  },
  {
   "cell_type": "code",
   "execution_count": 7,
   "id": "download-cve-files",
   "metadata": {},
   "outputs": [
    {
     "name": "stderr",
     "output_type": "stream",
     "text": [
      "Pulling latest changes: 100%|██████████| 1/1 [00:00<00:00,  1.71it/s]\n"
     ]
    },
    {
     "name": "stdout",
     "output_type": "stream",
     "text": [
      "Repository is up to date\n"
     ]
    },
    {
     "name": "stderr",
     "output_type": "stream",
     "text": [
      "Processing files: 100%|██████████| 29/29 [00:00<00:00, 593340.57it/s]\n"
     ]
    }
   ],
   "source": [
    "repo_url = 'https://github.com/CVEProject/cvelistV5.git'\n",
    "cve_folder = './CVE'\n",
    "sparse_folder = 'cves/'\n",
    "\n",
    "\n",
    "try:\n",
    "    if not os.path.exists(cve_folder) or not os.listdir(cve_folder):\n",
    "        if os.path.exists(cve_folder):\n",
    "            subprocess.run(['rm', '-rf', cve_folder])\n",
    "        os.makedirs(cve_folder, exist_ok=True)\n",
    "        with tqdm(total=3, desc=\"Cloning repository\") as pbar:\n",
    "            subprocess.run(['git', 'clone', '--filter=blob:none', '--sparse', repo_url, cve_folder], check=True)\n",
    "            pbar.update(1)\n",
    "            subprocess.run(['git', '-C', cve_folder, 'sparse-checkout', 'set', sparse_folder], check=True)\n",
    "            pbar.update(1)\n",
    "            pbar.update(1)\n",
    "    else:\n",
    "        with tqdm(total=1, desc=\"Pulling latest changes\") as pbar:\n",
    "            subprocess.run(['git', '-C', cve_folder, 'pull', '-q'], check=True)\n",
    "            pbar.update(1)\n",
    "    print('Repository is up to date')\n",
    "except subprocess.CalledProcessError:\n",
    "    print('Error occurred, removing .git folder and re-cloning the repository')\n",
    "    git_folder = os.path.join(cve_folder, '.git')\n",
    "    if os.path.exists(git_folder):\n",
    "        subprocess.run(['rm', '-rf', git_folder])\n",
    "    os.makedirs(cve_folder, exist_ok=True)\n",
    "    with tqdm(total=3, desc=\"Re-cloning repository\") as pbar:\n",
    "        subprocess.run(['git', 'clone', '--filter=blob:none', '--sparse', repo_url, cve_folder], check=True)\n",
    "        pbar.update(1)\n",
    "        subprocess.run(['git', '-C', cve_folder, 'sparse-checkout', 'set', sparse_folder], check=True)\n",
    "        pbar.update(1)\n",
    "        pbar.update(1)\n",
    "    print('Repository re-cloned successfully')\n",
    "\n",
    "files = os.listdir(os.path.join(cve_folder, sparse_folder))\n",
    "for file in tqdm(files, desc=\"Processing files\"):\n",
    "    pass"
   ]
  },
  {
   "cell_type": "markdown",
   "metadata": {},
   "source": [
    "## Download CNA List "
   ]
  },
  {
   "cell_type": "code",
   "execution_count": 8,
   "metadata": {},
   "outputs": [
    {
     "name": "stdout",
     "output_type": "stream",
     "text": [
      "File downloaded successfully as CNAsList.json\n"
     ]
    }
   ],
   "source": [
    "cna_list_url = 'https://raw.githubusercontent.com/CVEProject/cve-website/refs/heads/dev/src/assets/data/CNAsList.json'\n",
    "cna_list_file = 'CNAsList.json'\n",
    "\n",
    "# Download the file\n",
    "response = requests.get(cna_list_url)\n",
    "if response.status_code == 200:\n",
    "    with open(cna_list_file, 'w') as file:\n",
    "        file.write(response.text)\n",
    "    print(f\"File downloaded successfully as {cna_list_file}\")\n",
    "else:\n",
    "    print(f\"Failed to download the file. Status code: {response.status_code}\")"
   ]
  }
 ],
 "metadata": {
  "kernelspec": {
   "display_name": "Python 3",
   "language": "python",
   "name": "python3"
  },
  "language_info": {
   "codemirror_mode": {
    "name": "ipython",
    "version": 3
   },
   "file_extension": ".py",
   "mimetype": "text/x-python",
   "name": "python",
   "nbconvert_exporter": "python",
   "pygments_lexer": "ipython3",
   "version": "3.13.3"
  }
 },
 "nbformat": 4,
 "nbformat_minor": 2
}
